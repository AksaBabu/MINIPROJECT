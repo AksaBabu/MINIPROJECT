{
  "nbformat": 4,
  "nbformat_minor": 0,
  "metadata": {
    "colab": {
      "provenance": []
    },
    "kernelspec": {
      "name": "python3",
      "display_name": "Python 3"
    },
    "language_info": {
      "name": "python"
    }
  },
  "cells": [
    {
      "cell_type": "code",
      "execution_count": null,
      "metadata": {
        "colab": {
          "base_uri": "https://localhost:8080/"
        },
        "id": "T4gkq33EKQvV",
        "outputId": "fa8dc3f7-1c05-4b42-f1cd-3078c76be933"
      },
      "outputs": [
        {
          "output_type": "stream",
          "name": "stdout",
          "text": [
            "Mounted at /content/drive\n"
          ]
        }
      ],
      "source": [
        "\n",
        "from google.colab import drive\n",
        "drive.mount('/content/drive')"
      ]
    },
    {
      "cell_type": "code",
      "source": [
        "\n",
        "import numpy as np # linear algebra\n",
        "import pandas as pd # data processing, CSV file I/O (e.g. pd.read_csv)\n",
        "import seaborn as sns # deluxe visualization library\n",
        "import matplotlib.pyplot as plt # visualization library to support seaborn\n",
        "%matplotlib inline"
      ],
      "metadata": {
        "id": "F3A3OT17DskR"
      },
      "execution_count": null,
      "outputs": []
    },
    {
      "cell_type": "code",
      "source": [
        "\n",
        "\n",
        "# importing dataset from persistent landing\n",
        "thyroidDF = pd.read_csv('/content/drive/MyDrive/MINI Project/thyroidDF.csv') # thyroidDF.csv\n",
        "\n",
        "# dropping redundant attributes from thyroidDF dataset\n",
        "thyroidDF.drop(['TSH_measured', 'T3_measured', 'TT4_measured', 'T4U_measured', \n",
        "                'FTI_measured', 'TBG_measured', 'patient_id', 'referral_source'], axis=1, inplace=True)\n",
        "\n",
        "# re-mapping target vaues to diagnostic groups\n",
        "diagnoses = {'-': 'negative',\n",
        "             'A': 'hyperthyroid', \n",
        "             'B': 'hyperthyroid', \n",
        "             'C': 'hyperthyroid', \n",
        "             'D': 'hyperthyroid',\n",
        "             'E': 'hypothyroid', \n",
        "             'F': 'hypothyroid', \n",
        "             'G': 'hypothyroid', \n",
        "             'H': 'hypothyroid'}\n",
        "thyroidDF['target'] = thyroidDF['target'].map(diagnoses) # re-mapping\n",
        "\n",
        "thyroidDF.dropna(subset=['target'], inplace=True) \n",
        "\n",
        "# dataset initial summary\n",
        "thyroidDF.info()"
      ],
      "metadata": {
        "id": "SCEqURs7Keht",
        "colab": {
          "base_uri": "https://localhost:8080/"
        },
        "outputId": "8f76f426-ba98-4f2b-8d7c-7e97d657b0d2"
      },
      "execution_count": null,
      "outputs": [
        {
          "output_type": "stream",
          "name": "stdout",
          "text": [
            "<class 'pandas.core.frame.DataFrame'>\n",
            "Int64Index: 7546 entries, 0 to 9171\n",
            "Data columns (total 23 columns):\n",
            " #   Column               Non-Null Count  Dtype  \n",
            "---  ------               --------------  -----  \n",
            " 0   age                  7546 non-null   int64  \n",
            " 1   sex                  7296 non-null   object \n",
            " 2   on_thyroxine         7546 non-null   object \n",
            " 3   query_on_thyroxine   7546 non-null   object \n",
            " 4   on_antithyroid_meds  7546 non-null   object \n",
            " 5   sick                 7546 non-null   object \n",
            " 6   pregnant             7546 non-null   object \n",
            " 7   thyroid_surgery      7546 non-null   object \n",
            " 8   I131_treatment       7546 non-null   object \n",
            " 9   query_hypothyroid    7546 non-null   object \n",
            " 10  query_hyperthyroid   7546 non-null   object \n",
            " 11  lithium              7546 non-null   object \n",
            " 12  goitre               7546 non-null   object \n",
            " 13  tumor                7546 non-null   object \n",
            " 14  hypopituitary        7546 non-null   object \n",
            " 15  psych                7546 non-null   object \n",
            " 16  TSH                  6824 non-null   float64\n",
            " 17  T3                   5337 non-null   float64\n",
            " 18  TT4                  7192 non-null   float64\n",
            " 19  T4U                  6870 non-null   float64\n",
            " 20  FTI                  6877 non-null   float64\n",
            " 21  TBG                  259 non-null    float64\n",
            " 22  target               7546 non-null   object \n",
            "dtypes: float64(6), int64(1), object(16)\n",
            "memory usage: 1.4+ MB\n"
          ]
        }
      ]
    },
    {
      "cell_type": "code",
      "source": [
        "# distributions of numeric variables\n",
        "thyroidDF.describe()"
      ],
      "metadata": {
        "colab": {
          "base_uri": "https://localhost:8080/",
          "height": 300
        },
        "id": "UE3J5WM0K04X",
        "outputId": "ddbaed18-5999-4116-afc5-ce0bf95ecf30"
      },
      "execution_count": null,
      "outputs": [
        {
          "output_type": "execute_result",
          "data": {
            "text/plain": [
              "                age          TSH           T3          TT4          T4U  \\\n",
              "count   7546.000000  6824.000000  5337.000000  7192.000000  6870.000000   \n",
              "mean      78.013782     5.421753     2.020935   105.203373     0.967322   \n",
              "std     1305.258137    26.080471     0.809865    32.606462     0.162315   \n",
              "min        1.000000     0.005000     0.050000     2.000000     0.190000   \n",
              "25%       37.000000     0.570000     1.600000    87.000000     0.870000   \n",
              "50%       55.000000     1.400000     2.000000   103.000000     0.960000   \n",
              "75%       67.000000     2.700000     2.300000   121.000000     1.060000   \n",
              "max    65526.000000   530.000000    18.000000   430.000000     2.120000   \n",
              "\n",
              "               FTI         TBG  \n",
              "count  6877.000000  259.000000  \n",
              "mean    110.571745   22.955019  \n",
              "std      36.600867    6.088392  \n",
              "min       1.400000    0.100000  \n",
              "25%      93.000000   20.000000  \n",
              "50%     108.000000   23.000000  \n",
              "75%     125.000000   27.000000  \n",
              "max     839.000000   45.000000  "
            ],
            "text/html": [
              "\n",
              "  <div id=\"df-52c8226c-a644-45f3-ba21-4a8c6bd317f2\">\n",
              "    <div class=\"colab-df-container\">\n",
              "      <div>\n",
              "<style scoped>\n",
              "    .dataframe tbody tr th:only-of-type {\n",
              "        vertical-align: middle;\n",
              "    }\n",
              "\n",
              "    .dataframe tbody tr th {\n",
              "        vertical-align: top;\n",
              "    }\n",
              "\n",
              "    .dataframe thead th {\n",
              "        text-align: right;\n",
              "    }\n",
              "</style>\n",
              "<table border=\"1\" class=\"dataframe\">\n",
              "  <thead>\n",
              "    <tr style=\"text-align: right;\">\n",
              "      <th></th>\n",
              "      <th>age</th>\n",
              "      <th>TSH</th>\n",
              "      <th>T3</th>\n",
              "      <th>TT4</th>\n",
              "      <th>T4U</th>\n",
              "      <th>FTI</th>\n",
              "      <th>TBG</th>\n",
              "    </tr>\n",
              "  </thead>\n",
              "  <tbody>\n",
              "    <tr>\n",
              "      <th>count</th>\n",
              "      <td>7546.000000</td>\n",
              "      <td>6824.000000</td>\n",
              "      <td>5337.000000</td>\n",
              "      <td>7192.000000</td>\n",
              "      <td>6870.000000</td>\n",
              "      <td>6877.000000</td>\n",
              "      <td>259.000000</td>\n",
              "    </tr>\n",
              "    <tr>\n",
              "      <th>mean</th>\n",
              "      <td>78.013782</td>\n",
              "      <td>5.421753</td>\n",
              "      <td>2.020935</td>\n",
              "      <td>105.203373</td>\n",
              "      <td>0.967322</td>\n",
              "      <td>110.571745</td>\n",
              "      <td>22.955019</td>\n",
              "    </tr>\n",
              "    <tr>\n",
              "      <th>std</th>\n",
              "      <td>1305.258137</td>\n",
              "      <td>26.080471</td>\n",
              "      <td>0.809865</td>\n",
              "      <td>32.606462</td>\n",
              "      <td>0.162315</td>\n",
              "      <td>36.600867</td>\n",
              "      <td>6.088392</td>\n",
              "    </tr>\n",
              "    <tr>\n",
              "      <th>min</th>\n",
              "      <td>1.000000</td>\n",
              "      <td>0.005000</td>\n",
              "      <td>0.050000</td>\n",
              "      <td>2.000000</td>\n",
              "      <td>0.190000</td>\n",
              "      <td>1.400000</td>\n",
              "      <td>0.100000</td>\n",
              "    </tr>\n",
              "    <tr>\n",
              "      <th>25%</th>\n",
              "      <td>37.000000</td>\n",
              "      <td>0.570000</td>\n",
              "      <td>1.600000</td>\n",
              "      <td>87.000000</td>\n",
              "      <td>0.870000</td>\n",
              "      <td>93.000000</td>\n",
              "      <td>20.000000</td>\n",
              "    </tr>\n",
              "    <tr>\n",
              "      <th>50%</th>\n",
              "      <td>55.000000</td>\n",
              "      <td>1.400000</td>\n",
              "      <td>2.000000</td>\n",
              "      <td>103.000000</td>\n",
              "      <td>0.960000</td>\n",
              "      <td>108.000000</td>\n",
              "      <td>23.000000</td>\n",
              "    </tr>\n",
              "    <tr>\n",
              "      <th>75%</th>\n",
              "      <td>67.000000</td>\n",
              "      <td>2.700000</td>\n",
              "      <td>2.300000</td>\n",
              "      <td>121.000000</td>\n",
              "      <td>1.060000</td>\n",
              "      <td>125.000000</td>\n",
              "      <td>27.000000</td>\n",
              "    </tr>\n",
              "    <tr>\n",
              "      <th>max</th>\n",
              "      <td>65526.000000</td>\n",
              "      <td>530.000000</td>\n",
              "      <td>18.000000</td>\n",
              "      <td>430.000000</td>\n",
              "      <td>2.120000</td>\n",
              "      <td>839.000000</td>\n",
              "      <td>45.000000</td>\n",
              "    </tr>\n",
              "  </tbody>\n",
              "</table>\n",
              "</div>\n",
              "      <button class=\"colab-df-convert\" onclick=\"convertToInteractive('df-52c8226c-a644-45f3-ba21-4a8c6bd317f2')\"\n",
              "              title=\"Convert this dataframe to an interactive table.\"\n",
              "              style=\"display:none;\">\n",
              "        \n",
              "  <svg xmlns=\"http://www.w3.org/2000/svg\" height=\"24px\"viewBox=\"0 0 24 24\"\n",
              "       width=\"24px\">\n",
              "    <path d=\"M0 0h24v24H0V0z\" fill=\"none\"/>\n",
              "    <path d=\"M18.56 5.44l.94 2.06.94-2.06 2.06-.94-2.06-.94-.94-2.06-.94 2.06-2.06.94zm-11 1L8.5 8.5l.94-2.06 2.06-.94-2.06-.94L8.5 2.5l-.94 2.06-2.06.94zm10 10l.94 2.06.94-2.06 2.06-.94-2.06-.94-.94-2.06-.94 2.06-2.06.94z\"/><path d=\"M17.41 7.96l-1.37-1.37c-.4-.4-.92-.59-1.43-.59-.52 0-1.04.2-1.43.59L10.3 9.45l-7.72 7.72c-.78.78-.78 2.05 0 2.83L4 21.41c.39.39.9.59 1.41.59.51 0 1.02-.2 1.41-.59l7.78-7.78 2.81-2.81c.8-.78.8-2.07 0-2.86zM5.41 20L4 18.59l7.72-7.72 1.47 1.35L5.41 20z\"/>\n",
              "  </svg>\n",
              "      </button>\n",
              "      \n",
              "  <style>\n",
              "    .colab-df-container {\n",
              "      display:flex;\n",
              "      flex-wrap:wrap;\n",
              "      gap: 12px;\n",
              "    }\n",
              "\n",
              "    .colab-df-convert {\n",
              "      background-color: #E8F0FE;\n",
              "      border: none;\n",
              "      border-radius: 50%;\n",
              "      cursor: pointer;\n",
              "      display: none;\n",
              "      fill: #1967D2;\n",
              "      height: 32px;\n",
              "      padding: 0 0 0 0;\n",
              "      width: 32px;\n",
              "    }\n",
              "\n",
              "    .colab-df-convert:hover {\n",
              "      background-color: #E2EBFA;\n",
              "      box-shadow: 0px 1px 2px rgba(60, 64, 67, 0.3), 0px 1px 3px 1px rgba(60, 64, 67, 0.15);\n",
              "      fill: #174EA6;\n",
              "    }\n",
              "\n",
              "    [theme=dark] .colab-df-convert {\n",
              "      background-color: #3B4455;\n",
              "      fill: #D2E3FC;\n",
              "    }\n",
              "\n",
              "    [theme=dark] .colab-df-convert:hover {\n",
              "      background-color: #434B5C;\n",
              "      box-shadow: 0px 1px 3px 1px rgba(0, 0, 0, 0.15);\n",
              "      filter: drop-shadow(0px 1px 2px rgba(0, 0, 0, 0.3));\n",
              "      fill: #FFFFFF;\n",
              "    }\n",
              "  </style>\n",
              "\n",
              "      <script>\n",
              "        const buttonEl =\n",
              "          document.querySelector('#df-52c8226c-a644-45f3-ba21-4a8c6bd317f2 button.colab-df-convert');\n",
              "        buttonEl.style.display =\n",
              "          google.colab.kernel.accessAllowed ? 'block' : 'none';\n",
              "\n",
              "        async function convertToInteractive(key) {\n",
              "          const element = document.querySelector('#df-52c8226c-a644-45f3-ba21-4a8c6bd317f2');\n",
              "          const dataTable =\n",
              "            await google.colab.kernel.invokeFunction('convertToInteractive',\n",
              "                                                     [key], {});\n",
              "          if (!dataTable) return;\n",
              "\n",
              "          const docLinkHtml = 'Like what you see? Visit the ' +\n",
              "            '<a target=\"_blank\" href=https://colab.research.google.com/notebooks/data_table.ipynb>data table notebook</a>'\n",
              "            + ' to learn more about interactive tables.';\n",
              "          element.innerHTML = '';\n",
              "          dataTable['output_type'] = 'display_data';\n",
              "          await google.colab.output.renderOutput(dataTable, element);\n",
              "          const docLink = document.createElement('div');\n",
              "          docLink.innerHTML = docLinkHtml;\n",
              "          element.appendChild(docLink);\n",
              "        }\n",
              "      </script>\n",
              "    </div>\n",
              "  </div>\n",
              "  "
            ]
          },
          "metadata": {},
          "execution_count": 4
        }
      ]
    },
    {
      "cell_type": "code",
      "source": [
        "# inspecting observations with age > 100\n",
        "thyroidDF[thyroidDF.age > 100]"
      ],
      "metadata": {
        "colab": {
          "base_uri": "https://localhost:8080/",
          "height": 268
        },
        "id": "6mljDDGANVKv",
        "outputId": "9e126d49-907b-498b-b3fe-623271854386"
      },
      "execution_count": null,
      "outputs": [
        {
          "output_type": "execute_result",
          "data": {
            "text/plain": [
              "        age sex on_thyroxine query_on_thyroxine on_antithyroid_meds sick  \\\n",
              "2976    455   F            f                  f                   f    f   \n",
              "5710  65511   M            f                  f                   f    f   \n",
              "6392  65512   M            f                  f                   f    f   \n",
              "8105  65526   F            f                  f                   f    f   \n",
              "\n",
              "     pregnant thyroid_surgery I131_treatment query_hypothyroid  ... tumor  \\\n",
              "2976        f               f              f                 f  ...     f   \n",
              "5710        f               f              f                 f  ...     f   \n",
              "6392        f               f              f                 f  ...     f   \n",
              "8105        f               f              f                 f  ...     f   \n",
              "\n",
              "     hypopituitary psych   TSH   T3    TT4   T4U    FTI  TBG    target  \n",
              "2976             f     f  1.10  2.0  118.0  1.13  104.0  NaN  negative  \n",
              "5710             f     f  0.38  2.0  113.0  1.08  104.0  NaN  negative  \n",
              "6392             f     f  0.03  2.8  112.0  0.84  133.0  NaN  negative  \n",
              "8105             f     f  1.50  NaN  132.0  1.02  129.0  NaN  negative  \n",
              "\n",
              "[4 rows x 23 columns]"
            ],
            "text/html": [
              "\n",
              "  <div id=\"df-e9c9e210-969c-4777-ab5c-a0b3aca539e8\">\n",
              "    <div class=\"colab-df-container\">\n",
              "      <div>\n",
              "<style scoped>\n",
              "    .dataframe tbody tr th:only-of-type {\n",
              "        vertical-align: middle;\n",
              "    }\n",
              "\n",
              "    .dataframe tbody tr th {\n",
              "        vertical-align: top;\n",
              "    }\n",
              "\n",
              "    .dataframe thead th {\n",
              "        text-align: right;\n",
              "    }\n",
              "</style>\n",
              "<table border=\"1\" class=\"dataframe\">\n",
              "  <thead>\n",
              "    <tr style=\"text-align: right;\">\n",
              "      <th></th>\n",
              "      <th>age</th>\n",
              "      <th>sex</th>\n",
              "      <th>on_thyroxine</th>\n",
              "      <th>query_on_thyroxine</th>\n",
              "      <th>on_antithyroid_meds</th>\n",
              "      <th>sick</th>\n",
              "      <th>pregnant</th>\n",
              "      <th>thyroid_surgery</th>\n",
              "      <th>I131_treatment</th>\n",
              "      <th>query_hypothyroid</th>\n",
              "      <th>...</th>\n",
              "      <th>tumor</th>\n",
              "      <th>hypopituitary</th>\n",
              "      <th>psych</th>\n",
              "      <th>TSH</th>\n",
              "      <th>T3</th>\n",
              "      <th>TT4</th>\n",
              "      <th>T4U</th>\n",
              "      <th>FTI</th>\n",
              "      <th>TBG</th>\n",
              "      <th>target</th>\n",
              "    </tr>\n",
              "  </thead>\n",
              "  <tbody>\n",
              "    <tr>\n",
              "      <th>2976</th>\n",
              "      <td>455</td>\n",
              "      <td>F</td>\n",
              "      <td>f</td>\n",
              "      <td>f</td>\n",
              "      <td>f</td>\n",
              "      <td>f</td>\n",
              "      <td>f</td>\n",
              "      <td>f</td>\n",
              "      <td>f</td>\n",
              "      <td>f</td>\n",
              "      <td>...</td>\n",
              "      <td>f</td>\n",
              "      <td>f</td>\n",
              "      <td>f</td>\n",
              "      <td>1.10</td>\n",
              "      <td>2.0</td>\n",
              "      <td>118.0</td>\n",
              "      <td>1.13</td>\n",
              "      <td>104.0</td>\n",
              "      <td>NaN</td>\n",
              "      <td>negative</td>\n",
              "    </tr>\n",
              "    <tr>\n",
              "      <th>5710</th>\n",
              "      <td>65511</td>\n",
              "      <td>M</td>\n",
              "      <td>f</td>\n",
              "      <td>f</td>\n",
              "      <td>f</td>\n",
              "      <td>f</td>\n",
              "      <td>f</td>\n",
              "      <td>f</td>\n",
              "      <td>f</td>\n",
              "      <td>f</td>\n",
              "      <td>...</td>\n",
              "      <td>f</td>\n",
              "      <td>f</td>\n",
              "      <td>f</td>\n",
              "      <td>0.38</td>\n",
              "      <td>2.0</td>\n",
              "      <td>113.0</td>\n",
              "      <td>1.08</td>\n",
              "      <td>104.0</td>\n",
              "      <td>NaN</td>\n",
              "      <td>negative</td>\n",
              "    </tr>\n",
              "    <tr>\n",
              "      <th>6392</th>\n",
              "      <td>65512</td>\n",
              "      <td>M</td>\n",
              "      <td>f</td>\n",
              "      <td>f</td>\n",
              "      <td>f</td>\n",
              "      <td>f</td>\n",
              "      <td>f</td>\n",
              "      <td>f</td>\n",
              "      <td>f</td>\n",
              "      <td>f</td>\n",
              "      <td>...</td>\n",
              "      <td>f</td>\n",
              "      <td>f</td>\n",
              "      <td>f</td>\n",
              "      <td>0.03</td>\n",
              "      <td>2.8</td>\n",
              "      <td>112.0</td>\n",
              "      <td>0.84</td>\n",
              "      <td>133.0</td>\n",
              "      <td>NaN</td>\n",
              "      <td>negative</td>\n",
              "    </tr>\n",
              "    <tr>\n",
              "      <th>8105</th>\n",
              "      <td>65526</td>\n",
              "      <td>F</td>\n",
              "      <td>f</td>\n",
              "      <td>f</td>\n",
              "      <td>f</td>\n",
              "      <td>f</td>\n",
              "      <td>f</td>\n",
              "      <td>f</td>\n",
              "      <td>f</td>\n",
              "      <td>f</td>\n",
              "      <td>...</td>\n",
              "      <td>f</td>\n",
              "      <td>f</td>\n",
              "      <td>f</td>\n",
              "      <td>1.50</td>\n",
              "      <td>NaN</td>\n",
              "      <td>132.0</td>\n",
              "      <td>1.02</td>\n",
              "      <td>129.0</td>\n",
              "      <td>NaN</td>\n",
              "      <td>negative</td>\n",
              "    </tr>\n",
              "  </tbody>\n",
              "</table>\n",
              "<p>4 rows × 23 columns</p>\n",
              "</div>\n",
              "      <button class=\"colab-df-convert\" onclick=\"convertToInteractive('df-e9c9e210-969c-4777-ab5c-a0b3aca539e8')\"\n",
              "              title=\"Convert this dataframe to an interactive table.\"\n",
              "              style=\"display:none;\">\n",
              "        \n",
              "  <svg xmlns=\"http://www.w3.org/2000/svg\" height=\"24px\"viewBox=\"0 0 24 24\"\n",
              "       width=\"24px\">\n",
              "    <path d=\"M0 0h24v24H0V0z\" fill=\"none\"/>\n",
              "    <path d=\"M18.56 5.44l.94 2.06.94-2.06 2.06-.94-2.06-.94-.94-2.06-.94 2.06-2.06.94zm-11 1L8.5 8.5l.94-2.06 2.06-.94-2.06-.94L8.5 2.5l-.94 2.06-2.06.94zm10 10l.94 2.06.94-2.06 2.06-.94-2.06-.94-.94-2.06-.94 2.06-2.06.94z\"/><path d=\"M17.41 7.96l-1.37-1.37c-.4-.4-.92-.59-1.43-.59-.52 0-1.04.2-1.43.59L10.3 9.45l-7.72 7.72c-.78.78-.78 2.05 0 2.83L4 21.41c.39.39.9.59 1.41.59.51 0 1.02-.2 1.41-.59l7.78-7.78 2.81-2.81c.8-.78.8-2.07 0-2.86zM5.41 20L4 18.59l7.72-7.72 1.47 1.35L5.41 20z\"/>\n",
              "  </svg>\n",
              "      </button>\n",
              "      \n",
              "  <style>\n",
              "    .colab-df-container {\n",
              "      display:flex;\n",
              "      flex-wrap:wrap;\n",
              "      gap: 12px;\n",
              "    }\n",
              "\n",
              "    .colab-df-convert {\n",
              "      background-color: #E8F0FE;\n",
              "      border: none;\n",
              "      border-radius: 50%;\n",
              "      cursor: pointer;\n",
              "      display: none;\n",
              "      fill: #1967D2;\n",
              "      height: 32px;\n",
              "      padding: 0 0 0 0;\n",
              "      width: 32px;\n",
              "    }\n",
              "\n",
              "    .colab-df-convert:hover {\n",
              "      background-color: #E2EBFA;\n",
              "      box-shadow: 0px 1px 2px rgba(60, 64, 67, 0.3), 0px 1px 3px 1px rgba(60, 64, 67, 0.15);\n",
              "      fill: #174EA6;\n",
              "    }\n",
              "\n",
              "    [theme=dark] .colab-df-convert {\n",
              "      background-color: #3B4455;\n",
              "      fill: #D2E3FC;\n",
              "    }\n",
              "\n",
              "    [theme=dark] .colab-df-convert:hover {\n",
              "      background-color: #434B5C;\n",
              "      box-shadow: 0px 1px 3px 1px rgba(0, 0, 0, 0.15);\n",
              "      filter: drop-shadow(0px 1px 2px rgba(0, 0, 0, 0.3));\n",
              "      fill: #FFFFFF;\n",
              "    }\n",
              "  </style>\n",
              "\n",
              "      <script>\n",
              "        const buttonEl =\n",
              "          document.querySelector('#df-e9c9e210-969c-4777-ab5c-a0b3aca539e8 button.colab-df-convert');\n",
              "        buttonEl.style.display =\n",
              "          google.colab.kernel.accessAllowed ? 'block' : 'none';\n",
              "\n",
              "        async function convertToInteractive(key) {\n",
              "          const element = document.querySelector('#df-e9c9e210-969c-4777-ab5c-a0b3aca539e8');\n",
              "          const dataTable =\n",
              "            await google.colab.kernel.invokeFunction('convertToInteractive',\n",
              "                                                     [key], {});\n",
              "          if (!dataTable) return;\n",
              "\n",
              "          const docLinkHtml = 'Like what you see? Visit the ' +\n",
              "            '<a target=\"_blank\" href=https://colab.research.google.com/notebooks/data_table.ipynb>data table notebook</a>'\n",
              "            + ' to learn more about interactive tables.';\n",
              "          element.innerHTML = '';\n",
              "          dataTable['output_type'] = 'display_data';\n",
              "          await google.colab.output.renderOutput(dataTable, element);\n",
              "          const docLink = document.createElement('div');\n",
              "          docLink.innerHTML = docLinkHtml;\n",
              "          element.appendChild(docLink);\n",
              "        }\n",
              "      </script>\n",
              "    </div>\n",
              "  </div>\n",
              "  "
            ]
          },
          "metadata": {},
          "execution_count": 5
        }
      ]
    },
    {
      "cell_type": "code",
      "source": [
        "# changing age of observations with ('age' > 100) to null\n",
        "thyroidDF['age'] = np.where((thyroidDF.age > 100), np.nan, thyroidDF.age)"
      ],
      "metadata": {
        "id": "t5fx66ewNX1R"
      },
      "execution_count": null,
      "outputs": []
    },
    {
      "cell_type": "code",
      "source": [
        "# calculating missingess of entire DF\n",
        "missingness = thyroidDF.isnull().sum().sum() / thyroidDF.count().sum()\n",
        "print('Overall Missingness of thyroidDF is: {:.2f}%'.format(missingness * 100))\n",
        "\n",
        "# Create table for missing data analysis\n",
        "def missing_table(df):\n",
        "    total = df.isnull().sum().sort_values(ascending=False)\n",
        "    percent = (df.isnull().sum()/df.isnull().count()).sort_values(ascending=False)\n",
        "    missing_data = pd.concat([total, percent], axis=1, keys=['Total', 'Percent'])\n",
        "    return missing_data\n",
        "\n",
        "# Analyze missing data\n",
        "missing_table(thyroidDF).head(10)"
      ],
      "metadata": {
        "colab": {
          "base_uri": "https://localhost:8080/",
          "height": 380
        },
        "id": "vIWGJveoNrmS",
        "outputId": "7fc77e53-581d-4394-b4cc-ce5741f93fdc"
      },
      "execution_count": null,
      "outputs": [
        {
          "output_type": "stream",
          "name": "stdout",
          "text": [
            "Overall Missingness of thyroidDF is: 7.54%\n"
          ]
        },
        {
          "output_type": "execute_result",
          "data": {
            "text/plain": [
              "        Total   Percent\n",
              "TBG      7287  0.965677\n",
              "T3       2209  0.292738\n",
              "TSH       722  0.095680\n",
              "T4U       676  0.089584\n",
              "FTI       669  0.088656\n",
              "TT4       354  0.046912\n",
              "sex       250  0.033130\n",
              "age         4  0.000530\n",
              "goitre      0  0.000000\n",
              "psych       0  0.000000"
            ],
            "text/html": [
              "\n",
              "  <div id=\"df-81d1c9ae-634d-4e83-81a5-49f915f0bc6c\">\n",
              "    <div class=\"colab-df-container\">\n",
              "      <div>\n",
              "<style scoped>\n",
              "    .dataframe tbody tr th:only-of-type {\n",
              "        vertical-align: middle;\n",
              "    }\n",
              "\n",
              "    .dataframe tbody tr th {\n",
              "        vertical-align: top;\n",
              "    }\n",
              "\n",
              "    .dataframe thead th {\n",
              "        text-align: right;\n",
              "    }\n",
              "</style>\n",
              "<table border=\"1\" class=\"dataframe\">\n",
              "  <thead>\n",
              "    <tr style=\"text-align: right;\">\n",
              "      <th></th>\n",
              "      <th>Total</th>\n",
              "      <th>Percent</th>\n",
              "    </tr>\n",
              "  </thead>\n",
              "  <tbody>\n",
              "    <tr>\n",
              "      <th>TBG</th>\n",
              "      <td>7287</td>\n",
              "      <td>0.965677</td>\n",
              "    </tr>\n",
              "    <tr>\n",
              "      <th>T3</th>\n",
              "      <td>2209</td>\n",
              "      <td>0.292738</td>\n",
              "    </tr>\n",
              "    <tr>\n",
              "      <th>TSH</th>\n",
              "      <td>722</td>\n",
              "      <td>0.095680</td>\n",
              "    </tr>\n",
              "    <tr>\n",
              "      <th>T4U</th>\n",
              "      <td>676</td>\n",
              "      <td>0.089584</td>\n",
              "    </tr>\n",
              "    <tr>\n",
              "      <th>FTI</th>\n",
              "      <td>669</td>\n",
              "      <td>0.088656</td>\n",
              "    </tr>\n",
              "    <tr>\n",
              "      <th>TT4</th>\n",
              "      <td>354</td>\n",
              "      <td>0.046912</td>\n",
              "    </tr>\n",
              "    <tr>\n",
              "      <th>sex</th>\n",
              "      <td>250</td>\n",
              "      <td>0.033130</td>\n",
              "    </tr>\n",
              "    <tr>\n",
              "      <th>age</th>\n",
              "      <td>4</td>\n",
              "      <td>0.000530</td>\n",
              "    </tr>\n",
              "    <tr>\n",
              "      <th>goitre</th>\n",
              "      <td>0</td>\n",
              "      <td>0.000000</td>\n",
              "    </tr>\n",
              "    <tr>\n",
              "      <th>psych</th>\n",
              "      <td>0</td>\n",
              "      <td>0.000000</td>\n",
              "    </tr>\n",
              "  </tbody>\n",
              "</table>\n",
              "</div>\n",
              "      <button class=\"colab-df-convert\" onclick=\"convertToInteractive('df-81d1c9ae-634d-4e83-81a5-49f915f0bc6c')\"\n",
              "              title=\"Convert this dataframe to an interactive table.\"\n",
              "              style=\"display:none;\">\n",
              "        \n",
              "  <svg xmlns=\"http://www.w3.org/2000/svg\" height=\"24px\"viewBox=\"0 0 24 24\"\n",
              "       width=\"24px\">\n",
              "    <path d=\"M0 0h24v24H0V0z\" fill=\"none\"/>\n",
              "    <path d=\"M18.56 5.44l.94 2.06.94-2.06 2.06-.94-2.06-.94-.94-2.06-.94 2.06-2.06.94zm-11 1L8.5 8.5l.94-2.06 2.06-.94-2.06-.94L8.5 2.5l-.94 2.06-2.06.94zm10 10l.94 2.06.94-2.06 2.06-.94-2.06-.94-.94-2.06-.94 2.06-2.06.94z\"/><path d=\"M17.41 7.96l-1.37-1.37c-.4-.4-.92-.59-1.43-.59-.52 0-1.04.2-1.43.59L10.3 9.45l-7.72 7.72c-.78.78-.78 2.05 0 2.83L4 21.41c.39.39.9.59 1.41.59.51 0 1.02-.2 1.41-.59l7.78-7.78 2.81-2.81c.8-.78.8-2.07 0-2.86zM5.41 20L4 18.59l7.72-7.72 1.47 1.35L5.41 20z\"/>\n",
              "  </svg>\n",
              "      </button>\n",
              "      \n",
              "  <style>\n",
              "    .colab-df-container {\n",
              "      display:flex;\n",
              "      flex-wrap:wrap;\n",
              "      gap: 12px;\n",
              "    }\n",
              "\n",
              "    .colab-df-convert {\n",
              "      background-color: #E8F0FE;\n",
              "      border: none;\n",
              "      border-radius: 50%;\n",
              "      cursor: pointer;\n",
              "      display: none;\n",
              "      fill: #1967D2;\n",
              "      height: 32px;\n",
              "      padding: 0 0 0 0;\n",
              "      width: 32px;\n",
              "    }\n",
              "\n",
              "    .colab-df-convert:hover {\n",
              "      background-color: #E2EBFA;\n",
              "      box-shadow: 0px 1px 2px rgba(60, 64, 67, 0.3), 0px 1px 3px 1px rgba(60, 64, 67, 0.15);\n",
              "      fill: #174EA6;\n",
              "    }\n",
              "\n",
              "    [theme=dark] .colab-df-convert {\n",
              "      background-color: #3B4455;\n",
              "      fill: #D2E3FC;\n",
              "    }\n",
              "\n",
              "    [theme=dark] .colab-df-convert:hover {\n",
              "      background-color: #434B5C;\n",
              "      box-shadow: 0px 1px 3px 1px rgba(0, 0, 0, 0.15);\n",
              "      filter: drop-shadow(0px 1px 2px rgba(0, 0, 0, 0.3));\n",
              "      fill: #FFFFFF;\n",
              "    }\n",
              "  </style>\n",
              "\n",
              "      <script>\n",
              "        const buttonEl =\n",
              "          document.querySelector('#df-81d1c9ae-634d-4e83-81a5-49f915f0bc6c button.colab-df-convert');\n",
              "        buttonEl.style.display =\n",
              "          google.colab.kernel.accessAllowed ? 'block' : 'none';\n",
              "\n",
              "        async function convertToInteractive(key) {\n",
              "          const element = document.querySelector('#df-81d1c9ae-634d-4e83-81a5-49f915f0bc6c');\n",
              "          const dataTable =\n",
              "            await google.colab.kernel.invokeFunction('convertToInteractive',\n",
              "                                                     [key], {});\n",
              "          if (!dataTable) return;\n",
              "\n",
              "          const docLinkHtml = 'Like what you see? Visit the ' +\n",
              "            '<a target=\"_blank\" href=https://colab.research.google.com/notebooks/data_table.ipynb>data table notebook</a>'\n",
              "            + ' to learn more about interactive tables.';\n",
              "          element.innerHTML = '';\n",
              "          dataTable['output_type'] = 'display_data';\n",
              "          await google.colab.output.renderOutput(dataTable, element);\n",
              "          const docLink = document.createElement('div');\n",
              "          docLink.innerHTML = docLinkHtml;\n",
              "          element.appendChild(docLink);\n",
              "        }\n",
              "      </script>\n",
              "    </div>\n",
              "  </div>\n",
              "  "
            ]
          },
          "metadata": {},
          "execution_count": 7
        }
      ]
    },
    {
      "cell_type": "code",
      "source": [
        "# dropping 'TBG' attribute from dataset\n",
        "thyroidDF.drop(['TBG'], axis=1, inplace=True)\n",
        "\n",
        "# dropping 4 observations with abnormal 'age' from dataset\n",
        "thyroidDF.dropna(subset=['age'], inplace=True)\n",
        "\n",
        "# changing sex of observations with ('pregnant' == True) & ('sex' == null) to Female\n",
        "thyroidDF['sex'] = np.where((thyroidDF.sex.isnull()) & (thyroidDF.pregnant == 't'), 'F', thyroidDF.sex)"
      ],
      "metadata": {
        "id": "ELAZ3DAeNyf6"
      },
      "execution_count": null,
      "outputs": []
    },
    {
      "cell_type": "code",
      "source": [
        "# count missing values per row\n",
        "thyroidDF['n_missing'] = thyroidDF.isnull().sum(axis=1)\n",
        "sns.histplot(thyroidDF, x='n_missing', binwidth=0.5, hue='target');\n"
      ],
      "metadata": {
        "colab": {
          "base_uri": "https://localhost:8080/",
          "height": 280
        },
        "id": "yyh0So-lOQ2O",
        "outputId": "8c3e9248-a007-4530-8880-f64df4cce70a"
      },
      "execution_count": null,
      "outputs": [
        {
          "output_type": "display_data",
          "data": {
            "text/plain": [
              "<Figure size 432x288 with 1 Axes>"
            ],
            "image/png": "[encoded data removed]"
          },
          "metadata": {
            "needs_background": "light"
          }
        }
      ]
    },
    {
      "cell_type": "code",
      "source": [
        "thyroidDF['n_missing']"
      ],
      "metadata": {
        "colab": {
          "base_uri": "https://localhost:8080/"
        },
        "id": "0RV019mXQFVr",
        "outputId": "5787feb5-160d-4d91-9e34-1ecbe733f0b8"
      },
      "execution_count": null,
      "outputs": [
        {
          "output_type": "execute_result",
          "data": {
            "text/plain": [
              "0       4\n",
              "1       2\n",
              "2       5\n",
              "3       5\n",
              "5       5\n",
              "       ..\n",
              "9166    2\n",
              "9167    2\n",
              "9168    2\n",
              "9170    2\n",
              "9171    2\n",
              "Name: n_missing, Length: 7542, dtype: int64"
            ]
          },
          "metadata": {},
          "execution_count": 10
        }
      ]
    },
    {
      "cell_type": "code",
      "source": [
        "# calculating missingess of entire DF\n",
        "missingness = thyroidDF.isnull().sum().sum() / thyroidDF.count().sum()\n",
        "print('Overall Missingness of thyroidDF is: {:.2f}%'.format(missingness * 100))\n",
        "\n",
        "# remove rows with 3 or more missing values\n",
        "thyroidDF.drop(thyroidDF.index[thyroidDF['n_missing'] > 2], inplace=True)\n",
        "print\n",
        "missing_table(thyroidDF).head(10)"
      ],
      "metadata": {
        "colab": {
          "base_uri": "https://localhost:8080/",
          "height": 380
        },
        "id": "9pqzkYVDOVJ-",
        "outputId": "9b7342f0-3fa1-4b6a-d8c5-38297fdee66e"
      },
      "execution_count": null,
      "outputs": [
        {
          "output_type": "stream",
          "name": "stdout",
          "text": [
            "Overall Missingness of thyroidDF is: 2.89%\n"
          ]
        },
        {
          "output_type": "execute_result",
          "data": {
            "text/plain": [
              "        Total   Percent\n",
              "T3       1910  0.267432\n",
              "TSH       406  0.056847\n",
              "T4U       290  0.040605\n",
              "FTI       283  0.039625\n",
              "sex       208  0.029123\n",
              "TT4         6  0.000840\n",
              "age         0  0.000000\n",
              "goitre      0  0.000000\n",
              "target      0  0.000000\n",
              "psych       0  0.000000"
            ],
            "text/html": [
              "\n",
              "  <div id=\"df-d231237a-421f-4337-a9cc-b0459b511767\">\n",
              "    <div class=\"colab-df-container\">\n",
              "      <div>\n",
              "<style scoped>\n",
              "    .dataframe tbody tr th:only-of-type {\n",
              "        vertical-align: middle;\n",
              "    }\n",
              "\n",
              "    .dataframe tbody tr th {\n",
              "        vertical-align: top;\n",
              "    }\n",
              "\n",
              "    .dataframe thead th {\n",
              "        text-align: right;\n",
              "    }\n",
              "</style>\n",
              "<table border=\"1\" class=\"dataframe\">\n",
              "  <thead>\n",
              "    <tr style=\"text-align: right;\">\n",
              "      <th></th>\n",
              "      <th>Total</th>\n",
              "      <th>Percent</th>\n",
              "    </tr>\n",
              "  </thead>\n",
              "  <tbody>\n",
              "    <tr>\n",
              "      <th>T3</th>\n",
              "      <td>1910</td>\n",
              "      <td>0.267432</td>\n",
              "    </tr>\n",
              "    <tr>\n",
              "      <th>TSH</th>\n",
              "      <td>406</td>\n",
              "      <td>0.056847</td>\n",
              "    </tr>\n",
              "    <tr>\n",
              "      <th>T4U</th>\n",
              "      <td>290</td>\n",
              "      <td>0.040605</td>\n",
              "    </tr>\n",
              "    <tr>\n",
              "      <th>FTI</th>\n",
              "      <td>283</td>\n",
              "      <td>0.039625</td>\n",
              "    </tr>\n",
              "    <tr>\n",
              "      <th>sex</th>\n",
              "      <td>208</td>\n",
              "      <td>0.029123</td>\n",
              "    </tr>\n",
              "    <tr>\n",
              "      <th>TT4</th>\n",
              "      <td>6</td>\n",
              "      <td>0.000840</td>\n",
              "    </tr>\n",
              "    <tr>\n",
              "      <th>age</th>\n",
              "      <td>0</td>\n",
              "      <td>0.000000</td>\n",
              "    </tr>\n",
              "    <tr>\n",
              "      <th>goitre</th>\n",
              "      <td>0</td>\n",
              "      <td>0.000000</td>\n",
              "    </tr>\n",
              "    <tr>\n",
              "      <th>target</th>\n",
              "      <td>0</td>\n",
              "      <td>0.000000</td>\n",
              "    </tr>\n",
              "    <tr>\n",
              "      <th>psych</th>\n",
              "      <td>0</td>\n",
              "      <td>0.000000</td>\n",
              "    </tr>\n",
              "  </tbody>\n",
              "</table>\n",
              "</div>\n",
              "      <button class=\"colab-df-convert\" onclick=\"convertToInteractive('df-d231237a-421f-4337-a9cc-b0459b511767')\"\n",
              "              title=\"Convert this dataframe to an interactive table.\"\n",
              "              style=\"display:none;\">\n",
              "        \n",
              "  <svg xmlns=\"http://www.w3.org/2000/svg\" height=\"24px\"viewBox=\"0 0 24 24\"\n",
              "       width=\"24px\">\n",
              "    <path d=\"M0 0h24v24H0V0z\" fill=\"none\"/>\n",
              "    <path d=\"M18.56 5.44l.94 2.06.94-2.06 2.06-.94-2.06-.94-.94-2.06-.94 2.06-2.06.94zm-11 1L8.5 8.5l.94-2.06 2.06-.94-2.06-.94L8.5 2.5l-.94 2.06-2.06.94zm10 10l.94 2.06.94-2.06 2.06-.94-2.06-.94-.94-2.06-.94 2.06-2.06.94z\"/><path d=\"M17.41 7.96l-1.37-1.37c-.4-.4-.92-.59-1.43-.59-.52 0-1.04.2-1.43.59L10.3 9.45l-7.72 7.72c-.78.78-.78 2.05 0 2.83L4 21.41c.39.39.9.59 1.41.59.51 0 1.02-.2 1.41-.59l7.78-7.78 2.81-2.81c.8-.78.8-2.07 0-2.86zM5.41 20L4 18.59l7.72-7.72 1.47 1.35L5.41 20z\"/>\n",
              "  </svg>\n",
              "      </button>\n",
              "      \n",
              "  <style>\n",
              "    .colab-df-container {\n",
              "      display:flex;\n",
              "      flex-wrap:wrap;\n",
              "      gap: 12px;\n",
              "    }\n",
              "\n",
              "    .colab-df-convert {\n",
              "      background-color: #E8F0FE;\n",
              "      border: none;\n",
              "      border-radius: 50%;\n",
              "      cursor: pointer;\n",
              "      display: none;\n",
              "      fill: #1967D2;\n",
              "      height: 32px;\n",
              "      padding: 0 0 0 0;\n",
              "      width: 32px;\n",
              "    }\n",
              "\n",
              "    .colab-df-convert:hover {\n",
              "      background-color: #E2EBFA;\n",
              "      box-shadow: 0px 1px 2px rgba(60, 64, 67, 0.3), 0px 1px 3px 1px rgba(60, 64, 67, 0.15);\n",
              "      fill: #174EA6;\n",
              "    }\n",
              "\n",
              "    [theme=dark] .colab-df-convert {\n",
              "      background-color: #3B4455;\n",
              "      fill: #D2E3FC;\n",
              "    }\n",
              "\n",
              "    [theme=dark] .colab-df-convert:hover {\n",
              "      background-color: #434B5C;\n",
              "      box-shadow: 0px 1px 3px 1px rgba(0, 0, 0, 0.15);\n",
              "      filter: drop-shadow(0px 1px 2px rgba(0, 0, 0, 0.3));\n",
              "      fill: #FFFFFF;\n",
              "    }\n",
              "  </style>\n",
              "\n",
              "      <script>\n",
              "        const buttonEl =\n",
              "          document.querySelector('#df-d231237a-421f-4337-a9cc-b0459b511767 button.colab-df-convert');\n",
              "        buttonEl.style.display =\n",
              "          google.colab.kernel.accessAllowed ? 'block' : 'none';\n",
              "\n",
              "        async function convertToInteractive(key) {\n",
              "          const element = document.querySelector('#df-d231237a-421f-4337-a9cc-b0459b511767');\n",
              "          const dataTable =\n",
              "            await google.colab.kernel.invokeFunction('convertToInteractive',\n",
              "                                                     [key], {});\n",
              "          if (!dataTable) return;\n",
              "\n",
              "          const docLinkHtml = 'Like what you see? Visit the ' +\n",
              "            '<a target=\"_blank\" href=https://colab.research.google.com/notebooks/data_table.ipynb>data table notebook</a>'\n",
              "            + ' to learn more about interactive tables.';\n",
              "          element.innerHTML = '';\n",
              "          dataTable['output_type'] = 'display_data';\n",
              "          await google.colab.output.renderOutput(dataTable, element);\n",
              "          const docLink = document.createElement('div');\n",
              "          docLink.innerHTML = docLinkHtml;\n",
              "          element.appendChild(docLink);\n",
              "        }\n",
              "      </script>\n",
              "    </div>\n",
              "  </div>\n",
              "  "
            ]
          },
          "metadata": {},
          "execution_count": 11
        }
      ]
    },
    {
      "cell_type": "code",
      "source": [
        "\n",
        "from sklearn.model_selection import train_test_split, GridSearchCV\n",
        "from sklearn.metrics import confusion_matrix, plot_confusion_matrix, classification_report\n",
        "from sklearn.metrics import balanced_accuracy_score, accuracy_score, precision_score, recall_score, f1_score\n",
        "from sklearn.utils.class_weight import compute_sample_weight\n",
        "\n",
        "# replacing boolean strings with binary 0 and 1\n",
        "thyroidDF.replace('f', 0, inplace=True)\n",
        "thyroidDF.replace('t', 1, inplace=True)\n",
        "\n",
        "# replacing sex with binary 0 and 1\n",
        "thyroidDF.replace('M', 0, inplace=True) # male mapped to 0\n",
        "thyroidDF.replace('F', 1, inplace=True) # female mapped to 1"
      ],
      "metadata": {
        "id": "1M_gS52LtGXk"
      },
      "execution_count": null,
      "outputs": []
    },
    {
      "cell_type": "code",
      "source": [
        "thyroidDF['sex'].unique()"
      ],
      "metadata": {
        "colab": {
          "base_uri": "https://localhost:8080/"
        },
        "id": "s_LWCkXffccd",
        "outputId": "d5b266c1-a685-4cde-ec73-052837c1e7ac"
      },
      "execution_count": null,
      "outputs": [
        {
          "output_type": "execute_result",
          "data": {
            "text/plain": [
              "array([ 1.,  0., nan])"
            ]
          },
          "metadata": {},
          "execution_count": 13
        }
      ]
    },
    {
      "cell_type": "code",
      "source": [
        "thyroidDF.to_csv(\"/content/drive/MyDrive/MINI Project/final_dataset.csv\",index=False)"
      ],
      "metadata": {
        "id": "hQb7g5pjt5nX"
      },
      "execution_count": null,
      "outputs": []
    },
    {
      "cell_type": "code",
      "source": [
        "thyroidDF[\"target\"].unique()"
      ],
      "metadata": {
        "colab": {
          "base_uri": "https://localhost:8080/"
        },
        "id": "IfBFYK0Cenwu",
        "outputId": "35240fef-9dac-4d54-bfdd-56f142f254ed"
      },
      "execution_count": null,
      "outputs": [
        {
          "output_type": "execute_result",
          "data": {
            "text/plain": [
              "array(['negative', 'hypothyroid', 'hyperthyroid'], dtype=object)"
            ]
          },
          "metadata": {},
          "execution_count": 15
        }
      ]
    },
    {
      "cell_type": "code",
      "source": [
        "thyroidDF[\"target\"].value_counts()"
      ],
      "metadata": {
        "colab": {
          "base_uri": "https://localhost:8080/"
        },
        "id": "qB2lQC18aaOP",
        "outputId": "ee534008-6cd5-41c2-91fd-1a101f193202"
      },
      "execution_count": null,
      "outputs": [
        {
          "output_type": "execute_result",
          "data": {
            "text/plain": [
              "negative        6385\n",
              "hypothyroid      582\n",
              "hyperthyroid     175\n",
              "Name: target, dtype: int64"
            ]
          },
          "metadata": {},
          "execution_count": 16
        }
      ]
    },
    {
      "cell_type": "markdown",
      "source": [
        "## **Loading Dataset**"
      ],
      "metadata": {
        "id": "2XDPAuUAvRjO"
      }
    },
    {
      "cell_type": "code",
      "source": [
        "thyroidDFImb=pd.read_csv(\"/content/drive/MyDrive/MINI Project/final_dataset.csv\")"
      ],
      "metadata": {
        "id": "b1E1DQ6UutRT"
      },
      "execution_count": null,
      "outputs": []
    },
    {
      "cell_type": "code",
      "source": [
        "thyroidDFImb.drop([\"n_missing\",\"query_on_thyroxine\"],axis=1, inplace=True)"
      ],
      "metadata": {
        "id": "32RirItdqPVp"
      },
      "execution_count": null,
      "outputs": []
    },
    {
      "cell_type": "code",
      "source": [
        "thyroidDFImb[\"target\"].unique()"
      ],
      "metadata": {
        "colab": {
          "base_uri": "https://localhost:8080/"
        },
        "id": "pF4cKdDhrWv7",
        "outputId": "6bc5d9f9-8850-4a7b-9207-06c6b7ae3a3a"
      },
      "execution_count": null,
      "outputs": [
        {
          "output_type": "execute_result",
          "data": {
            "text/plain": [
              "array(['negative', 'hypothyroid', 'hyperthyroid'], dtype=object)"
            ]
          },
          "metadata": {},
          "execution_count": 117
        }
      ]
    },
    {
      "cell_type": "code",
      "source": [
        "thyroidDFImb[\"target\"].value_counts()"
      ],
      "metadata": {
        "colab": {
          "base_uri": "https://localhost:8080/"
        },
        "id": "rxdUInVQnUBa",
        "outputId": "27c27778-8f17-4689-aaf4-560fe78d7c56"
      },
      "execution_count": null,
      "outputs": [
        {
          "output_type": "execute_result",
          "data": {
            "text/plain": [
              "negative        6385\n",
              "hypothyroid      582\n",
              "hyperthyroid     175\n",
              "Name: target, dtype: int64"
            ]
          },
          "metadata": {},
          "execution_count": 118
        }
      ]
    },
    {
      "cell_type": "code",
      "source": [
        "thyroidDFImb=thyroidDFImb.dropna(axis=0)"
      ],
      "metadata": {
        "id": "F2uBaa1Nm34a"
      },
      "execution_count": null,
      "outputs": []
    },
    {
      "cell_type": "code",
      "source": [
        "thyroidDFImb[\"target\"].value_counts()"
      ],
      "metadata": {
        "colab": {
          "base_uri": "https://localhost:8080/"
        },
        "id": "k7l7MuJGirSl",
        "outputId": "7323df80-9d2a-42ac-ae6b-8e34e121e869"
      },
      "execution_count": null,
      "outputs": [
        {
          "output_type": "execute_result",
          "data": {
            "text/plain": [
              "negative        4166\n",
              "hypothyroid      375\n",
              "hyperthyroid     116\n",
              "Name: target, dtype: int64"
            ]
          },
          "metadata": {},
          "execution_count": 120
        }
      ]
    },
    {
      "cell_type": "code",
      "source": [
        "thyroidDFImb.shape"
      ],
      "metadata": {
        "colab": {
          "base_uri": "https://localhost:8080/"
        },
        "id": "2-dECsYEiNMB",
        "outputId": "7b42ad42-ee6d-469d-ed3b-9446ef3fdb55"
      },
      "execution_count": null,
      "outputs": [
        {
          "output_type": "execute_result",
          "data": {
            "text/plain": [
              "(4657, 21)"
            ]
          },
          "metadata": {},
          "execution_count": 122
        }
      ]
    },
    {
      "cell_type": "markdown",
      "source": [
        "### Smoting"
      ],
      "metadata": {
        "id": "7VVd5AbJfyJz"
      }
    },
    {
      "cell_type": "code",
      "source": [
        "from imblearn.over_sampling import SMOTE\n"
      ],
      "metadata": {
        "id": "pKmYl-Khlt7K"
      },
      "execution_count": null,
      "outputs": []
    },
    {
      "cell_type": "code",
      "source": [
        "cols=thyroidDFImb.columns"
      ],
      "metadata": {
        "id": "RnSPoTyCmpp6"
      },
      "execution_count": null,
      "outputs": []
    },
    {
      "cell_type": "code",
      "source": [
        "cols"
      ],
      "metadata": {
        "colab": {
          "base_uri": "https://localhost:8080/"
        },
        "id": "Asn9DjGypg0T",
        "outputId": "43a27744-b587-44b4-cc14-a21e99bd393c"
      },
      "execution_count": null,
      "outputs": [
        {
          "output_type": "execute_result",
          "data": {
            "text/plain": [
              "Index(['age', 'sex', 'on_thyroxine', 'on_antithyroid_meds', 'sick', 'pregnant',\n",
              "       'thyroid_surgery', 'I131_treatment', 'query_hypothyroid',\n",
              "       'query_hyperthyroid', 'lithium', 'goitre', 'tumor', 'hypopituitary',\n",
              "       'psych', 'TSH', 'T3', 'TT4', 'T4U', 'FTI', 'target'],\n",
              "      dtype='object')"
            ]
          },
          "metadata": {},
          "execution_count": 128
        }
      ]
    },
    {
      "cell_type": "code",
      "source": [
        "# for reproducibility purposes\n",
        "seed = 100\n",
        "# SMOTE number of neighbors\n",
        "k = 1\n",
        "# make a new df made of all the columns, except the target class\n",
        "X = thyroidDFImb.loc[:, thyroidDFImb.columns != 'target']\n",
        "y = thyroidDFImb.target"
      ],
      "metadata": {
        "id": "K6YwCf7plvMz"
      },
      "execution_count": null,
      "outputs": []
    },
    {
      "cell_type": "code",
      "source": [
        "sm = SMOTE(sampling_strategy='auto', k_neighbors=k, random_state=seed)\n",
        "X_res, y_res = sm.fit_resample(X, y)"
      ],
      "metadata": {
        "id": "2n7lbS50p9b6"
      },
      "execution_count": null,
      "outputs": []
    },
    {
      "cell_type": "code",
      "source": [
        "df = pd.concat([pd.DataFrame(X_res), pd.DataFrame(y_res)], axis=1)\n",
        "# rename the columns\n",
        "df.columns =cols\n",
        "df.to_csv('/content/drive/MyDrive/MINI Project/dataset_smoted.csv', index=False, encoding='utf-8')"
      ],
      "metadata": {
        "id": "c7_GzXItmyw4"
      },
      "execution_count": null,
      "outputs": []
    },
    {
      "cell_type": "markdown",
      "source": [
        "### **Splitting Dataset**"
      ],
      "metadata": {
        "id": "9dTtOXzZs7Xf"
      }
    },
    {
      "cell_type": "code",
      "source": [
        "from sklearn.model_selection import train_test_split"
      ],
      "metadata": {
        "id": "zMWjfjmDERu_"
      },
      "execution_count": null,
      "outputs": []
    },
    {
      "cell_type": "code",
      "source": [
        "thyroidDF=pd.read_csv(\"/content/drive/MyDrive/MINI Project/dataset_smoted.csv\")"
      ],
      "metadata": {
        "id": "FdtIXoVqsl9g"
      },
      "execution_count": null,
      "outputs": []
    },
    {
      "cell_type": "code",
      "source": [
        "thyroidDF"
      ],
      "metadata": {
        "id": "-zO_H_MUkq8i",
        "colab": {
          "base_uri": "https://localhost:8080/",
          "height": 488
        },
        "outputId": "788d3bf6-893f-43d3-83a9-95968bb22a5a"
      },
      "execution_count": null,
      "outputs": [
        {
          "output_type": "execute_result",
          "data": {
            "text/plain": [
              "             age       sex  on_thyroxine  on_antithyroid_meds  sick  pregnant  \\\n",
              "0      36.000000  1.000000             0                    0     0         0   \n",
              "1      40.000000  1.000000             0                    0     0         0   \n",
              "2      40.000000  1.000000             0                    0     0         0   \n",
              "3      77.000000  1.000000             0                    0     0         0   \n",
              "4      51.000000  1.000000             0                    0     0         0   \n",
              "...          ...       ...           ...                  ...   ...       ...   \n",
              "12493  65.036527  0.000000             0                    0     0         0   \n",
              "12494  45.740494  1.000000             0                    0     0         0   \n",
              "12495  47.852320  0.570464             0                    0     0         0   \n",
              "12496  61.765867  1.000000             0                    0     0         0   \n",
              "12497  55.054640  1.000000             0                    0     0         0   \n",
              "\n",
              "       thyroid_surgery  I131_treatment  query_hypothyroid  query_hyperthyroid  \\\n",
              "0                    0               0                  1                   1   \n",
              "1                    0               0                  0                   0   \n",
              "2                    0               0                  0                   0   \n",
              "3                    0               0                  0                   0   \n",
              "4                    0               0                  0                   0   \n",
              "...                ...             ...                ...                 ...   \n",
              "12493                0               0                  0                   0   \n",
              "12494                0               0                  0                   0   \n",
              "12495                0               0                  0                   0   \n",
              "12496                0               0                  0                   0   \n",
              "12497                0               0                  0                   0   \n",
              "\n",
              "       ...  goitre  tumor  hypopituitary  psych        TSH        T3  \\\n",
              "0      ...       0      0              0      0   1.500000  2.400000   \n",
              "1      ...       0      0              0      0   1.200000  2.300000   \n",
              "2      ...       0      0              0      0   5.900000  2.100000   \n",
              "3      ...       0      0              0      0   0.050000  2.400000   \n",
              "4      ...       0      0              0      0   0.050000  2.100000   \n",
              "...    ...     ...    ...            ...    ...        ...       ...   \n",
              "12493  ...       0      0              0      0  14.661195  1.496347   \n",
              "12494  ...       0      0              0      0  34.740494  1.174049   \n",
              "12495  ...       0      0              0      0  59.288608  1.626835   \n",
              "12496  ...       0      0              0      0  30.531733  1.882933   \n",
              "12497  ...       0      0              0      0  10.351547  2.164845   \n",
              "\n",
              "              TT4       T4U         FTI       target  \n",
              "0       90.000000  1.060000   85.000000     negative  \n",
              "1      104.000000  1.080000   96.000000     negative  \n",
              "2       88.000000  0.840000  105.000000     negative  \n",
              "3      107.000000  1.130000   95.000000     negative  \n",
              "4       93.000000  0.870000  106.000000     negative  \n",
              "...           ...       ...         ...          ...  \n",
              "12493   61.255692  0.854383   71.926945  hypothyroid  \n",
              "12494   15.805371  0.881409   18.480989  hypothyroid  \n",
              "12495   24.140928  1.063958   22.577216  hypothyroid  \n",
              "12496   64.063467  0.990635   64.765867  hypothyroid  \n",
              "12497   78.890721  1.061876   74.000000  hypothyroid  \n",
              "\n",
              "[12498 rows x 21 columns]"
            ],
            "text/html": [
              "\n",
              "  <div id=\"df-8fc185ad-dc13-4ba4-bef7-ab25516843b3\">\n",
              "    <div class=\"colab-df-container\">\n",
              "      <div>\n",
              "<style scoped>\n",
              "    .dataframe tbody tr th:only-of-type {\n",
              "        vertical-align: middle;\n",
              "    }\n",
              "\n",
              "    .dataframe tbody tr th {\n",
              "        vertical-align: top;\n",
              "    }\n",
              "\n",
              "    .dataframe thead th {\n",
              "        text-align: right;\n",
              "    }\n",
              "</style>\n",
              "<table border=\"1\" class=\"dataframe\">\n",
              "  <thead>\n",
              "    <tr style=\"text-align: right;\">\n",
              "      <th></th>\n",
              "      <th>age</th>\n",
              "      <th>sex</th>\n",
              "      <th>on_thyroxine</th>\n",
              "      <th>on_antithyroid_meds</th>\n",
              "      <th>sick</th>\n",
              "      <th>pregnant</th>\n",
              "      <th>thyroid_surgery</th>\n",
              "      <th>I131_treatment</th>\n",
              "      <th>query_hypothyroid</th>\n",
              "      <th>query_hyperthyroid</th>\n",
              "      <th>...</th>\n",
              "      <th>goitre</th>\n",
              "      <th>tumor</th>\n",
              "      <th>hypopituitary</th>\n",
              "      <th>psych</th>\n",
              "      <th>TSH</th>\n",
              "      <th>T3</th>\n",
              "      <th>TT4</th>\n",
              "      <th>T4U</th>\n",
              "      <th>FTI</th>\n",
              "      <th>target</th>\n",
              "    </tr>\n",
              "  </thead>\n",
              "  <tbody>\n",
              "    <tr>\n",
              "      <th>0</th>\n",
              "      <td>36.000000</td>\n",
              "      <td>1.000000</td>\n",
              "      <td>0</td>\n",
              "      <td>0</td>\n",
              "      <td>0</td>\n",
              "      <td>0</td>\n",
              "      <td>0</td>\n",
              "      <td>0</td>\n",
              "      <td>1</td>\n",
              "      <td>1</td>\n",
              "      <td>...</td>\n",
              "      <td>0</td>\n",
              "      <td>0</td>\n",
              "      <td>0</td>\n",
              "      <td>0</td>\n",
              "      <td>1.500000</td>\n",
              "      <td>2.400000</td>\n",
              "      <td>90.000000</td>\n",
              "      <td>1.060000</td>\n",
              "      <td>85.000000</td>\n",
              "      <td>negative</td>\n",
              "    </tr>\n",
              "    <tr>\n",
              "      <th>1</th>\n",
              "      <td>40.000000</td>\n",
              "      <td>1.000000</td>\n",
              "      <td>0</td>\n",
              "      <td>0</td>\n",
              "      <td>0</td>\n",
              "      <td>0</td>\n",
              "      <td>0</td>\n",
              "      <td>0</td>\n",
              "      <td>0</td>\n",
              "      <td>0</td>\n",
              "      <td>...</td>\n",
              "      <td>0</td>\n",
              "      <td>0</td>\n",
              "      <td>0</td>\n",
              "      <td>0</td>\n",
              "      <td>1.200000</td>\n",
              "      <td>2.300000</td>\n",
              "      <td>104.000000</td>\n",
              "      <td>1.080000</td>\n",
              "      <td>96.000000</td>\n",
              "      <td>negative</td>\n",
              "    </tr>\n",
              "    <tr>\n",
              "      <th>2</th>\n",
              "      <td>40.000000</td>\n",
              "      <td>1.000000</td>\n",
              "      <td>0</td>\n",
              "      <td>0</td>\n",
              "      <td>0</td>\n",
              "      <td>0</td>\n",
              "      <td>0</td>\n",
              "      <td>0</td>\n",
              "      <td>0</td>\n",
              "      <td>0</td>\n",
              "      <td>...</td>\n",
              "      <td>0</td>\n",
              "      <td>0</td>\n",
              "      <td>0</td>\n",
              "      <td>0</td>\n",
              "      <td>5.900000</td>\n",
              "      <td>2.100000</td>\n",
              "      <td>88.000000</td>\n",
              "      <td>0.840000</td>\n",
              "      <td>105.000000</td>\n",
              "      <td>negative</td>\n",
              "    </tr>\n",
              "    <tr>\n",
              "      <th>3</th>\n",
              "      <td>77.000000</td>\n",
              "      <td>1.000000</td>\n",
              "      <td>0</td>\n",
              "      <td>0</td>\n",
              "      <td>0</td>\n",
              "      <td>0</td>\n",
              "      <td>0</td>\n",
              "      <td>0</td>\n",
              "      <td>0</td>\n",
              "      <td>0</td>\n",
              "      <td>...</td>\n",
              "      <td>0</td>\n",
              "      <td>0</td>\n",
              "      <td>0</td>\n",
              "      <td>0</td>\n",
              "      <td>0.050000</td>\n",
              "      <td>2.400000</td>\n",
              "      <td>107.000000</td>\n",
              "      <td>1.130000</td>\n",
              "      <td>95.000000</td>\n",
              "      <td>negative</td>\n",
              "    </tr>\n",
              "    <tr>\n",
              "      <th>4</th>\n",
              "      <td>51.000000</td>\n",
              "      <td>1.000000</td>\n",
              "      <td>0</td>\n",
              "      <td>0</td>\n",
              "      <td>0</td>\n",
              "      <td>0</td>\n",
              "      <td>0</td>\n",
              "      <td>0</td>\n",
              "      <td>0</td>\n",
              "      <td>0</td>\n",
              "      <td>...</td>\n",
              "      <td>0</td>\n",
              "      <td>0</td>\n",
              "      <td>0</td>\n",
              "      <td>0</td>\n",
              "      <td>0.050000</td>\n",
              "      <td>2.100000</td>\n",
              "      <td>93.000000</td>\n",
              "      <td>0.870000</td>\n",
              "      <td>106.000000</td>\n",
              "      <td>negative</td>\n",
              "    </tr>\n",
              "    <tr>\n",
              "      <th>...</th>\n",
              "      <td>...</td>\n",
              "      <td>...</td>\n",
              "      <td>...</td>\n",
              "      <td>...</td>\n",
              "      <td>...</td>\n",
              "      <td>...</td>\n",
              "      <td>...</td>\n",
              "      <td>...</td>\n",
              "      <td>...</td>\n",
              "      <td>...</td>\n",
              "      <td>...</td>\n",
              "      <td>...</td>\n",
              "      <td>...</td>\n",
              "      <td>...</td>\n",
              "      <td>...</td>\n",
              "      <td>...</td>\n",
              "      <td>...</td>\n",
              "      <td>...</td>\n",
              "      <td>...</td>\n",
              "      <td>...</td>\n",
              "      <td>...</td>\n",
              "    </tr>\n",
              "    <tr>\n",
              "      <th>12493</th>\n",
              "      <td>65.036527</td>\n",
              "      <td>0.000000</td>\n",
              "      <td>0</td>\n",
              "      <td>0</td>\n",
              "      <td>0</td>\n",
              "      <td>0</td>\n",
              "      <td>0</td>\n",
              "      <td>0</td>\n",
              "      <td>0</td>\n",
              "      <td>0</td>\n",
              "      <td>...</td>\n",
              "      <td>0</td>\n",
              "      <td>0</td>\n",
              "      <td>0</td>\n",
              "      <td>0</td>\n",
              "      <td>14.661195</td>\n",
              "      <td>1.496347</td>\n",
              "      <td>61.255692</td>\n",
              "      <td>0.854383</td>\n",
              "      <td>71.926945</td>\n",
              "      <td>hypothyroid</td>\n",
              "    </tr>\n",
              "    <tr>\n",
              "      <th>12494</th>\n",
              "      <td>45.740494</td>\n",
              "      <td>1.000000</td>\n",
              "      <td>0</td>\n",
              "      <td>0</td>\n",
              "      <td>0</td>\n",
              "      <td>0</td>\n",
              "      <td>0</td>\n",
              "      <td>0</td>\n",
              "      <td>0</td>\n",
              "      <td>0</td>\n",
              "      <td>...</td>\n",
              "      <td>0</td>\n",
              "      <td>0</td>\n",
              "      <td>0</td>\n",
              "      <td>0</td>\n",
              "      <td>34.740494</td>\n",
              "      <td>1.174049</td>\n",
              "      <td>15.805371</td>\n",
              "      <td>0.881409</td>\n",
              "      <td>18.480989</td>\n",
              "      <td>hypothyroid</td>\n",
              "    </tr>\n",
              "    <tr>\n",
              "      <th>12495</th>\n",
              "      <td>47.852320</td>\n",
              "      <td>0.570464</td>\n",
              "      <td>0</td>\n",
              "      <td>0</td>\n",
              "      <td>0</td>\n",
              "      <td>0</td>\n",
              "      <td>0</td>\n",
              "      <td>0</td>\n",
              "      <td>0</td>\n",
              "      <td>0</td>\n",
              "      <td>...</td>\n",
              "      <td>0</td>\n",
              "      <td>0</td>\n",
              "      <td>0</td>\n",
              "      <td>0</td>\n",
              "      <td>59.288608</td>\n",
              "      <td>1.626835</td>\n",
              "      <td>24.140928</td>\n",
              "      <td>1.063958</td>\n",
              "      <td>22.577216</td>\n",
              "      <td>hypothyroid</td>\n",
              "    </tr>\n",
              "    <tr>\n",
              "      <th>12496</th>\n",
              "      <td>61.765867</td>\n",
              "      <td>1.000000</td>\n",
              "      <td>0</td>\n",
              "      <td>0</td>\n",
              "      <td>0</td>\n",
              "      <td>0</td>\n",
              "      <td>0</td>\n",
              "      <td>0</td>\n",
              "      <td>0</td>\n",
              "      <td>0</td>\n",
              "      <td>...</td>\n",
              "      <td>0</td>\n",
              "      <td>0</td>\n",
              "      <td>0</td>\n",
              "      <td>0</td>\n",
              "      <td>30.531733</td>\n",
              "      <td>1.882933</td>\n",
              "      <td>64.063467</td>\n",
              "      <td>0.990635</td>\n",
              "      <td>64.765867</td>\n",
              "      <td>hypothyroid</td>\n",
              "    </tr>\n",
              "    <tr>\n",
              "      <th>12497</th>\n",
              "      <td>55.054640</td>\n",
              "      <td>1.000000</td>\n",
              "      <td>0</td>\n",
              "      <td>0</td>\n",
              "      <td>0</td>\n",
              "      <td>0</td>\n",
              "      <td>0</td>\n",
              "      <td>0</td>\n",
              "      <td>0</td>\n",
              "      <td>0</td>\n",
              "      <td>...</td>\n",
              "      <td>0</td>\n",
              "      <td>0</td>\n",
              "      <td>0</td>\n",
              "      <td>0</td>\n",
              "      <td>10.351547</td>\n",
              "      <td>2.164845</td>\n",
              "      <td>78.890721</td>\n",
              "      <td>1.061876</td>\n",
              "      <td>74.000000</td>\n",
              "      <td>hypothyroid</td>\n",
              "    </tr>\n",
              "  </tbody>\n",
              "</table>\n",
              "<p>12498 rows × 21 columns</p>\n",
              "</div>\n",
              "      <button class=\"colab-df-convert\" onclick=\"convertToInteractive('df-8fc185ad-dc13-4ba4-bef7-ab25516843b3')\"\n",
              "              title=\"Convert this dataframe to an interactive table.\"\n",
              "              style=\"display:none;\">\n",
              "        \n",
              "  <svg xmlns=\"http://www.w3.org/2000/svg\" height=\"24px\"viewBox=\"0 0 24 24\"\n",
              "       width=\"24px\">\n",
              "    <path d=\"M0 0h24v24H0V0z\" fill=\"none\"/>\n",
              "    <path d=\"M18.56 5.44l.94 2.06.94-2.06 2.06-.94-2.06-.94-.94-2.06-.94 2.06-2.06.94zm-11 1L8.5 8.5l.94-2.06 2.06-.94-2.06-.94L8.5 2.5l-.94 2.06-2.06.94zm10 10l.94 2.06.94-2.06 2.06-.94-2.06-.94-.94-2.06-.94 2.06-2.06.94z\"/><path d=\"M17.41 7.96l-1.37-1.37c-.4-.4-.92-.59-1.43-.59-.52 0-1.04.2-1.43.59L10.3 9.45l-7.72 7.72c-.78.78-.78 2.05 0 2.83L4 21.41c.39.39.9.59 1.41.59.51 0 1.02-.2 1.41-.59l7.78-7.78 2.81-2.81c.8-.78.8-2.07 0-2.86zM5.41 20L4 18.59l7.72-7.72 1.47 1.35L5.41 20z\"/>\n",
              "  </svg>\n",
              "      </button>\n",
              "      \n",
              "  <style>\n",
              "    .colab-df-container {\n",
              "      display:flex;\n",
              "      flex-wrap:wrap;\n",
              "      gap: 12px;\n",
              "    }\n",
              "\n",
              "    .colab-df-convert {\n",
              "      background-color: #E8F0FE;\n",
              "      border: none;\n",
              "      border-radius: 50%;\n",
              "      cursor: pointer;\n",
              "      display: none;\n",
              "      fill: #1967D2;\n",
              "      height: 32px;\n",
              "      padding: 0 0 0 0;\n",
              "      width: 32px;\n",
              "    }\n",
              "\n",
              "    .colab-df-convert:hover {\n",
              "      background-color: #E2EBFA;\n",
              "      box-shadow: 0px 1px 2px rgba(60, 64, 67, 0.3), 0px 1px 3px 1px rgba(60, 64, 67, 0.15);\n",
              "      fill: #174EA6;\n",
              "    }\n",
              "\n",
              "    [theme=dark] .colab-df-convert {\n",
              "      background-color: #3B4455;\n",
              "      fill: #D2E3FC;\n",
              "    }\n",
              "\n",
              "    [theme=dark] .colab-df-convert:hover {\n",
              "      background-color: #434B5C;\n",
              "      box-shadow: 0px 1px 3px 1px rgba(0, 0, 0, 0.15);\n",
              "      filter: drop-shadow(0px 1px 2px rgba(0, 0, 0, 0.3));\n",
              "      fill: #FFFFFF;\n",
              "    }\n",
              "  </style>\n",
              "\n",
              "      <script>\n",
              "        const buttonEl =\n",
              "          document.querySelector('#df-8fc185ad-dc13-4ba4-bef7-ab25516843b3 button.colab-df-convert');\n",
              "        buttonEl.style.display =\n",
              "          google.colab.kernel.accessAllowed ? 'block' : 'none';\n",
              "\n",
              "        async function convertToInteractive(key) {\n",
              "          const element = document.querySelector('#df-8fc185ad-dc13-4ba4-bef7-ab25516843b3');\n",
              "          const dataTable =\n",
              "            await google.colab.kernel.invokeFunction('convertToInteractive',\n",
              "                                                     [key], {});\n",
              "          if (!dataTable) return;\n",
              "\n",
              "          const docLinkHtml = 'Like what you see? Visit the ' +\n",
              "            '<a target=\"_blank\" href=https://colab.research.google.com/notebooks/data_table.ipynb>data table notebook</a>'\n",
              "            + ' to learn more about interactive tables.';\n",
              "          element.innerHTML = '';\n",
              "          dataTable['output_type'] = 'display_data';\n",
              "          await google.colab.output.renderOutput(dataTable, element);\n",
              "          const docLink = document.createElement('div');\n",
              "          docLink.innerHTML = docLinkHtml;\n",
              "          element.appendChild(docLink);\n",
              "        }\n",
              "      </script>\n",
              "    </div>\n",
              "  </div>\n",
              "  "
            ]
          },
          "metadata": {},
          "execution_count": 134
        }
      ]
    },
    {
      "cell_type": "code",
      "source": [
        "dataset = thyroidDF.drop([\"on_antithyroid_meds\",'thyroid_surgery',\"I131_treatment\",'lithium', 'tumor','psych','FTI','T4U'],axis=1)\n",
        "\n",
        "# re-mapping target vaues to diagnostic groups\n",
        "# *** I get different final results by ordering these classes differently ***\n",
        "diagnoses = {'negative': 0,\n",
        "             'hypothyroid': 1, \n",
        "             'hyperthyroid': 2}\n",
        "\n",
        "dataset['target'] = dataset['target'].map(diagnoses) # re-mapping\n",
        "\n",
        "# train and test split --> stratified\n",
        "X = dataset.drop('target', axis=1).copy()\n",
        "y = dataset['target'].copy()\n",
        "\n",
        "X_train, X_test, y_train, y_test = train_test_split(X, y, random_state=42, test_size=0.1,stratify=y)"
      ],
      "metadata": {
        "id": "cJsYOzgUtknj"
      },
      "execution_count": null,
      "outputs": []
    },
    {
      "cell_type": "code",
      "source": [
        "dataset.columns"
      ],
      "metadata": {
        "colab": {
          "base_uri": "https://localhost:8080/"
        },
        "id": "zRWQGoj7PyaF",
        "outputId": "6eb559cc-0e0b-41cd-87aa-f24c3e6135e2"
      },
      "execution_count": null,
      "outputs": [
        {
          "output_type": "execute_result",
          "data": {
            "text/plain": [
              "Index(['age', 'sex', 'on_thyroxine', 'sick', 'pregnant', 'query_hypothyroid',\n",
              "       'query_hyperthyroid', 'goitre', 'hypopituitary', 'TSH', 'T3', 'TT4',\n",
              "       'target'],\n",
              "      dtype='object')"
            ]
          },
          "metadata": {},
          "execution_count": 36
        }
      ]
    },
    {
      "cell_type": "code",
      "source": [
        "from sklearn.svm import SVC\n",
        "from sklearn import metrics"
      ],
      "metadata": {
        "id": "GfeoO8wzvuIq"
      },
      "execution_count": null,
      "outputs": []
    },
    {
      "cell_type": "code",
      "source": [
        "from sklearn.preprocessing import StandardScaler"
      ],
      "metadata": {
        "id": "d4FnCOP2yMiE"
      },
      "execution_count": null,
      "outputs": []
    },
    {
      "cell_type": "code",
      "source": [
        "sc = StandardScaler()\n",
        "sc.fit(X_train)\n",
        "X_train_std = sc.transform(X_train)\n",
        "X_test_std = sc.transform(X_test)"
      ],
      "metadata": {
        "id": "rsLCsZjfwBEI"
      },
      "execution_count": null,
      "outputs": []
    },
    {
      "cell_type": "code",
      "source": [
        "from pickle import dump\n",
        "# save the scaler\n",
        "dump(sc, open('/content/drive/MyDrive/MINI Project/scaler2.pkl', 'wb'))"
      ],
      "metadata": {
        "id": "KsM9mnnIjCJL"
      },
      "execution_count": null,
      "outputs": []
    },
    {
      "cell_type": "code",
      "source": [
        "%pwd"
      ],
      "metadata": {
        "colab": {
          "base_uri": "https://localhost:8080/",
          "height": 36
        },
        "id": "x9A33JlKQPSN",
        "outputId": "6bc40762-8f82-4ad1-9df2-bd06047d7dec"
      },
      "execution_count": null,
      "outputs": [
        {
          "output_type": "execute_result",
          "data": {
            "text/plain": [
              "'/content'"
            ],
            "application/vnd.google.colaboratory.intrinsic+json": {
              "type": "string"
            }
          },
          "metadata": {},
          "execution_count": 39
        }
      ]
    },
    {
      "cell_type": "code",
      "source": [
        "X_train"
      ],
      "metadata": {
        "id": "_Eb9_5oWcwTf"
      },
      "execution_count": null,
      "outputs": []
    },
    {
      "cell_type": "code",
      "source": [
        "X_train_std"
      ],
      "metadata": {
        "colab": {
          "base_uri": "https://localhost:8080/"
        },
        "id": "k1psCibFla15",
        "outputId": "a0f3e2b0-7da4-44d6-f949-44fe9813fa1e"
      },
      "execution_count": null,
      "outputs": [
        {
          "output_type": "execute_result",
          "data": {
            "text/plain": [
              "array([[ 1.47612201, -1.73340646, -0.20176864, ...,  0.39190379,\n",
              "        -1.51404805,  0.88327218],\n",
              "       [ 0.17209614,  0.70327375, -0.20176864, ...,  0.13126314,\n",
              "        -0.06820705,  0.08355666],\n",
              "       [-1.07523294,  0.70327375, -0.20176864, ..., -0.04915922,\n",
              "         0.18709145, -0.13426155],\n",
              "       ...,\n",
              "       [-1.07523294,  0.70327375, -0.20176864, ..., -0.77084863,\n",
              "        -0.64262867, -0.64250406],\n",
              "       [ 0.34218647, -1.73340646, -0.20176864, ..., -0.54879035,\n",
              "        -0.32350555, -0.4851909 ],\n",
              "       [ 1.19263812,  0.70327375, -0.20176864, ..., -0.25733886,\n",
              "        -0.51497942, -0.15846358]])"
            ]
          },
          "metadata": {},
          "execution_count": 68
        }
      ]
    },
    {
      "cell_type": "code",
      "source": [
        "from sklearn.svm import SVC\n",
        "svclassifier = SVC(kernel='poly', degree=2)\n",
        "svclassifier.fit(X_train_std, y_train)"
      ],
      "metadata": {
        "colab": {
          "base_uri": "https://localhost:8080/"
        },
        "id": "f1QBW7FTwxwI",
        "outputId": "a7515f29-fc97-40e8-9ec8-e36badef1d56"
      },
      "execution_count": null,
      "outputs": [
        {
          "output_type": "execute_result",
          "data": {
            "text/plain": [
              "SVC(degree=2, kernel='poly')"
            ]
          },
          "metadata": {},
          "execution_count": 161
        }
      ]
    },
    {
      "cell_type": "code",
      "source": [
        "from sklearn.metrics import classification_report, confusion_matrix\n",
        "y_pred = svclassifier.predict(X_test_std)\n",
        "print(confusion_matrix(y_test, y_pred))\n",
        "print(classification_report(y_test, y_pred))"
      ],
      "metadata": {
        "colab": {
          "base_uri": "https://localhost:8080/"
        },
        "id": "7-pKZNMIxDCn",
        "outputId": "4a445d15-adde-466c-9cd7-060b102aa924"
      },
      "execution_count": null,
      "outputs": [
        {
          "output_type": "stream",
          "name": "stdout",
          "text": [
            "[[346  64   6]\n",
            " [ 54 357   6]\n",
            " [ 11   3 403]]\n",
            "              precision    recall  f1-score   support\n",
            "\n",
            "           0       0.84      0.83      0.84       416\n",
            "           1       0.84      0.86      0.85       417\n",
            "           2       0.97      0.97      0.97       417\n",
            "\n",
            "    accuracy                           0.88      1250\n",
            "   macro avg       0.88      0.88      0.88      1250\n",
            "weighted avg       0.89      0.88      0.88      1250\n",
            "\n"
          ]
        }
      ]
    },
    {
      "cell_type": "code",
      "source": [
        "import seaborn as sn"
      ],
      "metadata": {
        "id": "HUi5UyIOVAzR"
      },
      "execution_count": null,
      "outputs": []
    },
    {
      "cell_type": "code",
      "source": [
        "\n",
        "sn.heatmap(confusion_matrix(y_test, y_pred), annot=True,fmt='g',xticklabels=[\"Negative\",\"Hypo\",\"Hyper\"],yticklabels=[\"Negative\",\"Hypo\",\"Hyper\"])"
      ],
      "metadata": {
        "colab": {
          "base_uri": "https://localhost:8080/",
          "height": 285
        },
        "id": "uAQas7cuU8jY",
        "outputId": "49a75e56-a904-4b3d-8dd6-ce916fafbc3b"
      },
      "execution_count": null,
      "outputs": [
        {
          "output_type": "execute_result",
          "data": {
            "text/plain": [
              "<matplotlib.axes._subplots.AxesSubplot at 0x7f91dfbe0a90>"
            ]
          },
          "metadata": {},
          "execution_count": 187
        },
        {
          "output_type": "display_data",
          "data": {
            "text/plain": [
              "<Figure size 432x288 with 2 Axes>"
            ],
            "image/png": "[encoded data removed]"
          },
          "metadata": {
            "needs_background": "light"
          }
        }
      ]
    },
    {
      "cell_type": "markdown",
      "source": [
        "## **Deep Learning**"
      ],
      "metadata": {
        "id": "JJjJb1Zuz6hC"
      }
    },
    {
      "cell_type": "code",
      "source": [
        "from keras.models import Sequential\n",
        "from keras.layers import Dense\n",
        "from keras.layers import Dropout\n",
        "from keras.layers import Flatten\n"
      ],
      "metadata": {
        "id": "VfNhwcwpxU2_"
      },
      "execution_count": null,
      "outputs": []
    },
    {
      "cell_type": "code",
      "source": [
        "X_train_std.shape"
      ],
      "metadata": {
        "id": "ye-x8Lw90qH3",
        "colab": {
          "base_uri": "https://localhost:8080/"
        },
        "outputId": "38eb892a-553c-47d3-a7dd-e7885c0b1eb2"
      },
      "execution_count": null,
      "outputs": [
        {
          "output_type": "execute_result",
          "data": {
            "text/plain": [
              "(11248, 12)"
            ]
          },
          "metadata": {},
          "execution_count": 40
        }
      ]
    },
    {
      "cell_type": "code",
      "source": [
        "from keras.utils import to_categorical\n",
        "train_labels = to_categorical(y_train, dtype =\"uint8\")\n",
        "test_labels = to_categorical(y_test, dtype =\"uint8\")"
      ],
      "metadata": {
        "id": "jNXSI2g-PKvX"
      },
      "execution_count": null,
      "outputs": []
    },
    {
      "cell_type": "code",
      "source": [
        "\n",
        "# define the keras model\n",
        "model = Sequential()\n",
        "model.add(Dense(18, input_shape=(12,), activation='relu'))\n",
        "model.add(Dense(10, activation='relu'))\n",
        "model.add(Dense(8, activation='relu'))\n",
        "model.add(Dense(3, activation='softmax'))"
      ],
      "metadata": {
        "id": "nNFd2ukJ7Bjh"
      },
      "execution_count": null,
      "outputs": []
    },
    {
      "cell_type": "code",
      "source": [
        "model.compile(loss='categorical_crossentropy', optimizer='adam', metrics=['accuracy'])"
      ],
      "metadata": {
        "id": "2iWx2uXU7Baf"
      },
      "execution_count": null,
      "outputs": []
    },
    {
      "cell_type": "code",
      "source": [
        "history=model.fit(X_train_std, train_labels, epochs=15,validation_data=(X_test_std, test_labels), batch_size=10)"
      ],
      "metadata": {
        "id": "3QaJKjDM7ror",
        "colab": {
          "base_uri": "https://localhost:8080/"
        },
        "outputId": "9e627ef0-b088-4594-bbf3-baeb742d8559"
      },
      "execution_count": null,
      "outputs": [
        {
          "output_type": "stream",
          "name": "stdout",
          "text": [
            "Epoch 1/15\n",
            "1125/1125 [==============================] - 3s 2ms/step - loss: 0.3949 - accuracy: 0.8316 - val_loss: 0.2219 - val_accuracy: 0.9344\n",
            "Epoch 2/15\n",
            "1125/1125 [==============================] - 2s 2ms/step - loss: 0.1360 - accuracy: 0.9643 - val_loss: 0.0908 - val_accuracy: 0.9824\n",
            "Epoch 3/15\n",
            "1125/1125 [==============================] - 2s 2ms/step - loss: 0.0738 - accuracy: 0.9831 - val_loss: 0.0612 - val_accuracy: 0.9880\n",
            "Epoch 4/15\n",
            "1125/1125 [==============================] - 2s 2ms/step - loss: 0.0601 - accuracy: 0.9874 - val_loss: 0.0522 - val_accuracy: 0.9904\n",
            "Epoch 5/15\n",
            "1125/1125 [==============================] - 2s 2ms/step - loss: 0.0543 - accuracy: 0.9884 - val_loss: 0.0481 - val_accuracy: 0.9888\n",
            "Epoch 6/15\n",
            "1125/1125 [==============================] - 2s 2ms/step - loss: 0.0520 - accuracy: 0.9879 - val_loss: 0.0481 - val_accuracy: 0.9888\n",
            "Epoch 7/15\n",
            "1125/1125 [==============================] - 2s 2ms/step - loss: 0.0501 - accuracy: 0.9874 - val_loss: 0.0444 - val_accuracy: 0.9896\n",
            "Epoch 8/15\n",
            "1125/1125 [==============================] - 2s 2ms/step - loss: 0.0458 - accuracy: 0.9891 - val_loss: 0.0471 - val_accuracy: 0.9896\n",
            "Epoch 9/15\n",
            "1125/1125 [==============================] - 2s 2ms/step - loss: 0.0446 - accuracy: 0.9893 - val_loss: 0.0509 - val_accuracy: 0.9896\n",
            "Epoch 10/15\n",
            "1125/1125 [==============================] - 2s 2ms/step - loss: 0.0431 - accuracy: 0.9897 - val_loss: 0.0478 - val_accuracy: 0.9896\n",
            "Epoch 11/15\n",
            "1125/1125 [==============================] - 2s 2ms/step - loss: 0.0433 - accuracy: 0.9886 - val_loss: 0.0470 - val_accuracy: 0.9896\n",
            "Epoch 12/15\n",
            "1125/1125 [==============================] - 2s 2ms/step - loss: 0.0423 - accuracy: 0.9896 - val_loss: 0.0472 - val_accuracy: 0.9880\n",
            "Epoch 13/15\n",
            "1125/1125 [==============================] - 2s 2ms/step - loss: 0.0405 - accuracy: 0.9901 - val_loss: 0.0442 - val_accuracy: 0.9888\n",
            "Epoch 14/15\n",
            "1125/1125 [==============================] - 2s 2ms/step - loss: 0.0401 - accuracy: 0.9900 - val_loss: 0.0471 - val_accuracy: 0.9864\n",
            "Epoch 15/15\n",
            "1125/1125 [==============================] - 3s 3ms/step - loss: 0.0411 - accuracy: 0.9895 - val_loss: 0.0424 - val_accuracy: 0.9888\n"
          ]
        }
      ]
    },
    {
      "cell_type": "code",
      "source": [
        "plt.plot(history.history['loss'])\n",
        "plt.plot(history.history['val_loss'])\n",
        "plt.title('model loss')\n",
        "plt.ylabel('loss')\n",
        "plt.xlabel('epoch')\n",
        "plt.legend(['train', 'val'], loc='upper left')\n",
        "plt.show()"
      ],
      "metadata": {
        "colab": {
          "base_uri": "https://localhost:8080/",
          "height": 295
        },
        "id": "jC6jVBldU6s1",
        "outputId": "e330c547-c91c-43a1-97c8-86ba23af48fc"
      },
      "execution_count": null,
      "outputs": [
        {
          "output_type": "display_data",
          "data": {
            "text/plain": [
              "<Figure size 432x288 with 1 Axes>"
            ],
            "image/png": "[encoded data removed]"
          },
          "metadata": {
            "needs_background": "light"
          }
        }
      ]
    },
    {
      "cell_type": "code",
      "source": [
        "...\n",
        "# evaluate the keras model\n",
        "_, accuracy = model.evaluate(X_test_std, test_labels)\n",
        "print('Accuracy: %.2f' % (accuracy*100))"
      ],
      "metadata": {
        "id": "3UD15FmG8036",
        "colab": {
          "base_uri": "https://localhost:8080/"
        },
        "outputId": "fc5bfb6c-313d-4448-8bb8-ed43b03790c8"
      },
      "execution_count": null,
      "outputs": [
        {
          "output_type": "stream",
          "name": "stdout",
          "text": [
            "40/40 [==============================] - 0s 925us/step - loss: 0.0395 - accuracy: 0.9920\n",
            "Accuracy: 99.20\n"
          ]
        }
      ]
    },
    {
      "cell_type": "code",
      "source": [
        "y_pred = model.predict(X_test_std)"
      ],
      "metadata": {
        "id": "DDrl2wUs9AOY",
        "colab": {
          "base_uri": "https://localhost:8080/"
        },
        "outputId": "5cd5debb-5e08-456a-d765-07aa7926f7b5"
      },
      "execution_count": null,
      "outputs": [
        {
          "output_type": "stream",
          "name": "stdout",
          "text": [
            "40/40 [==============================] - 0s 870us/step\n"
          ]
        }
      ]
    },
    {
      "cell_type": "code",
      "source": [
        "y_pred"
      ],
      "metadata": {
        "colab": {
          "base_uri": "https://localhost:8080/"
        },
        "id": "_KYTO6xVS3pP",
        "outputId": "3a017777-bc99-477f-88af-c067e0e9e04c"
      },
      "execution_count": null,
      "outputs": [
        {
          "output_type": "execute_result",
          "data": {
            "text/plain": [
              "array([[3.34187818e-04, 5.71253938e-12, 9.99665916e-01],\n",
              "       [8.98756591e-16, 9.99999940e-01, 0.00000000e+00],\n",
              "       [1.63172614e-02, 9.83681440e-01, 1.22556855e-06],\n",
              "       ...,\n",
              "       [2.22223413e-08, 9.99999940e-01, 1.04506494e-22],\n",
              "       [3.61979520e-03, 7.40705230e-09, 9.96380270e-01],\n",
              "       [1.00000000e+00, 1.06542855e-08, 4.00213153e-12]], dtype=float32)"
            ]
          },
          "metadata": {},
          "execution_count": 174
        }
      ]
    },
    {
      "cell_type": "code",
      "source": [
        "pred_mod=[]\n",
        "for i in y_pred:\n",
        "  pred_mod.append(np.argmax(i))"
      ],
      "metadata": {
        "id": "QNnMnNB3SwmY"
      },
      "execution_count": null,
      "outputs": []
    },
    {
      "cell_type": "code",
      "source": [
        "np.unique(y_test, return_counts=True)"
      ],
      "metadata": {
        "id": "gVfTFC5n-LVm",
        "colab": {
          "base_uri": "https://localhost:8080/"
        },
        "outputId": "22649397-e619-47db-e68b-b8196df74ac8"
      },
      "execution_count": null,
      "outputs": [
        {
          "output_type": "execute_result",
          "data": {
            "text/plain": [
              "(array([0, 1, 2]), array([416, 417, 417]))"
            ]
          },
          "metadata": {},
          "execution_count": 176
        }
      ]
    },
    {
      "cell_type": "code",
      "source": [
        "print(classification_report(y_test, pred_mod ))"
      ],
      "metadata": {
        "id": "GieiZGJD9g1v",
        "colab": {
          "base_uri": "https://localhost:8080/"
        },
        "outputId": "18cc217c-4f28-48a4-e88a-a28e5791cd65"
      },
      "execution_count": null,
      "outputs": [
        {
          "output_type": "stream",
          "name": "stdout",
          "text": [
            "              precision    recall  f1-score   support\n",
            "\n",
            "           0       0.99      0.99      0.99       416\n",
            "           1       1.00      0.99      0.99       417\n",
            "           2       0.99      1.00      0.99       417\n",
            "\n",
            "    accuracy                           0.99      1250\n",
            "   macro avg       0.99      0.99      0.99      1250\n",
            "weighted avg       0.99      0.99      0.99      1250\n",
            "\n"
          ]
        }
      ]
    },
    {
      "cell_type": "code",
      "source": [
        "sns.heatmap(confusion_matrix(y_test, pred_mod),annot=True,fmt='g',xticklabels=[\"Negative\",\"Hypo\",\"Hyper\"],yticklabels=[\"Negative\",\"Hypo\",\"Hyper\"])"
      ],
      "metadata": {
        "colab": {
          "base_uri": "https://localhost:8080/",
          "height": 282
        },
        "id": "e8IxYWjcVzyL",
        "outputId": "713582d8-d3e7-43bd-ac44-0f144fc19409"
      },
      "execution_count": null,
      "outputs": [
        {
          "output_type": "execute_result",
          "data": {
            "text/plain": [
              "<matplotlib.axes._subplots.AxesSubplot at 0x7f91df5f6850>"
            ]
          },
          "metadata": {},
          "execution_count": 195
        },
        {
          "output_type": "display_data",
          "data": {
            "text/plain": [
              "<Figure size 432x288 with 2 Axes>"
            ],
            "image/png": "[encoded data removed]"
          },
          "metadata": {
            "needs_background": "light"
          }
        }
      ]
    },
    {
      "cell_type": "code",
      "source": [
        "model.save(\"/content/drive/MyDrive/MINI Project/ann-2.h5\")"
      ],
      "metadata": {
        "id": "Mp11h6FZZuO9"
      },
      "execution_count": null,
      "outputs": []
    },
    {
      "cell_type": "code",
      "source": [],
      "metadata": {
        "id": "df-_sVV824MM"
      },
      "execution_count": null,
      "outputs": []
    },
    {
      "cell_type": "code",
      "source": [],
      "metadata": {
        "id": "sjyYhhNPJUMZ"
      },
      "execution_count": null,
      "outputs": []
    },
    {
      "cell_type": "code",
      "source": [],
      "metadata": {
        "id": "r6oaLKEU2kRZ"
      },
      "execution_count": null,
      "outputs": []
    }
  ]
}